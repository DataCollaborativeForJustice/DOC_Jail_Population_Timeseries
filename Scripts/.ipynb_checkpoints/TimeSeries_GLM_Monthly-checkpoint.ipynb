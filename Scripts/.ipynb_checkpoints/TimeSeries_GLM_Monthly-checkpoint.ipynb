{
 "cells": [
  {
   "cell_type": "code",
   "execution_count": 2,
   "id": "bd7db843",
   "metadata": {},
   "outputs": [],
   "source": [
    "# Import the necessary libraries\n",
    "import pandas as pd\n",
    "import numpy as np\n",
    "from scipy import stats\n",
    "import pmdarima as pmd\n",
    "import matplotlib.pyplot as plt\n",
    "import pybats\n",
    "from pybats.loss_functions import MAPE\n",
    "from pybats.analysis import analysis\n",
    "from pybats.point_forecast import median"
   ]
  },
  {
   "cell_type": "code",
   "execution_count": 6,
   "id": "12c9e199",
   "metadata": {},
   "outputs": [
    {
     "data": {
      "text/html": [
       "<div>\n",
       "<style scoped>\n",
       "    .dataframe tbody tr th:only-of-type {\n",
       "        vertical-align: middle;\n",
       "    }\n",
       "\n",
       "    .dataframe tbody tr th {\n",
       "        vertical-align: top;\n",
       "    }\n",
       "\n",
       "    .dataframe thead th {\n",
       "        text-align: right;\n",
       "    }\n",
       "</style>\n",
       "<table border=\"1\" class=\"dataframe\">\n",
       "  <thead>\n",
       "    <tr style=\"text-align: right;\">\n",
       "      <th></th>\n",
       "      <th>JailPop_Change</th>\n",
       "      <th>BailNotPosted_ArrRel</th>\n",
       "      <th>BailPosted_ArrRel</th>\n",
       "      <th>NonMonetaryCondit_ArrRel</th>\n",
       "      <th>Other_ArrRel</th>\n",
       "      <th>ROR_ArrRel</th>\n",
       "      <th>Remand_ArrRel</th>\n",
       "      <th>Total_Arraignments</th>\n",
       "      <th>Felony_ArrChg</th>\n",
       "      <th>Infraction_ArrChg</th>\n",
       "      <th>...</th>\n",
       "      <th>Felony_Crimes_lag1</th>\n",
       "      <th>Misdemeanor_Crimes_lag1</th>\n",
       "      <th>Violation_Crimes_lag1</th>\n",
       "      <th>Total_Crimes_lag1</th>\n",
       "      <th>Staff_Assaults_lag1</th>\n",
       "      <th>Inmate_Slashing_lag1</th>\n",
       "      <th>Inmate_Stabbing_lag1</th>\n",
       "      <th>Total_Inmate_Incidents_lag1</th>\n",
       "      <th>year</th>\n",
       "      <th>month</th>\n",
       "    </tr>\n",
       "  </thead>\n",
       "  <tbody>\n",
       "    <tr>\n",
       "      <th>0</th>\n",
       "      <td>1.480277</td>\n",
       "      <td>2.186597</td>\n",
       "      <td>1.642157</td>\n",
       "      <td>-0.829507</td>\n",
       "      <td>2.949445</td>\n",
       "      <td>1.788751</td>\n",
       "      <td>0.044716</td>\n",
       "      <td>2.177962</td>\n",
       "      <td>1.568071</td>\n",
       "      <td>1.431988</td>\n",
       "      <td>...</td>\n",
       "      <td>NaN</td>\n",
       "      <td>NaN</td>\n",
       "      <td>NaN</td>\n",
       "      <td>NaN</td>\n",
       "      <td>NaN</td>\n",
       "      <td>NaN</td>\n",
       "      <td>NaN</td>\n",
       "      <td>NaN</td>\n",
       "      <td>2018</td>\n",
       "      <td>1</td>\n",
       "    </tr>\n",
       "    <tr>\n",
       "      <th>1</th>\n",
       "      <td>-0.090689</td>\n",
       "      <td>1.500029</td>\n",
       "      <td>1.336942</td>\n",
       "      <td>-0.851883</td>\n",
       "      <td>2.046940</td>\n",
       "      <td>1.516559</td>\n",
       "      <td>-0.240736</td>\n",
       "      <td>1.628395</td>\n",
       "      <td>1.076557</td>\n",
       "      <td>1.151824</td>\n",
       "      <td>...</td>\n",
       "      <td>-0.635946</td>\n",
       "      <td>0.420891</td>\n",
       "      <td>-1.012979</td>\n",
       "      <td>-0.188101</td>\n",
       "      <td>2.802293</td>\n",
       "      <td>-0.325624</td>\n",
       "      <td>-0.664341</td>\n",
       "      <td>-0.505548</td>\n",
       "      <td>2018</td>\n",
       "      <td>2</td>\n",
       "    </tr>\n",
       "    <tr>\n",
       "      <th>2</th>\n",
       "      <td>-1.143275</td>\n",
       "      <td>1.573216</td>\n",
       "      <td>1.842727</td>\n",
       "      <td>-0.769262</td>\n",
       "      <td>2.254484</td>\n",
       "      <td>1.872771</td>\n",
       "      <td>-0.843356</td>\n",
       "      <td>1.927057</td>\n",
       "      <td>1.326951</td>\n",
       "      <td>1.472011</td>\n",
       "      <td>...</td>\n",
       "      <td>-1.309060</td>\n",
       "      <td>-0.337739</td>\n",
       "      <td>-1.380090</td>\n",
       "      <td>-0.896177</td>\n",
       "      <td>2.729738</td>\n",
       "      <td>-1.143515</td>\n",
       "      <td>-0.923286</td>\n",
       "      <td>-1.078990</td>\n",
       "      <td>2018</td>\n",
       "      <td>3</td>\n",
       "    </tr>\n",
       "    <tr>\n",
       "      <th>3</th>\n",
       "      <td>0.182351</td>\n",
       "      <td>1.501771</td>\n",
       "      <td>2.025856</td>\n",
       "      <td>-0.762377</td>\n",
       "      <td>1.917224</td>\n",
       "      <td>1.490303</td>\n",
       "      <td>-0.906789</td>\n",
       "      <td>1.600187</td>\n",
       "      <td>1.115507</td>\n",
       "      <td>1.311918</td>\n",
       "      <td>...</td>\n",
       "      <td>-0.744648</td>\n",
       "      <td>0.298289</td>\n",
       "      <td>-0.790141</td>\n",
       "      <td>-0.257354</td>\n",
       "      <td>2.391147</td>\n",
       "      <td>-0.909831</td>\n",
       "      <td>-0.793814</td>\n",
       "      <td>-0.887843</td>\n",
       "      <td>2018</td>\n",
       "      <td>4</td>\n",
       "    </tr>\n",
       "    <tr>\n",
       "      <th>4</th>\n",
       "      <td>-0.854408</td>\n",
       "      <td>1.843313</td>\n",
       "      <td>2.078179</td>\n",
       "      <td>-0.714182</td>\n",
       "      <td>1.894426</td>\n",
       "      <td>1.659657</td>\n",
       "      <td>-0.716488</td>\n",
       "      <td>1.747167</td>\n",
       "      <td>1.657100</td>\n",
       "      <td>1.532047</td>\n",
       "      <td>...</td>\n",
       "      <td>-0.879032</td>\n",
       "      <td>0.399646</td>\n",
       "      <td>-0.658724</td>\n",
       "      <td>-0.235412</td>\n",
       "      <td>1.713966</td>\n",
       "      <td>-0.676148</td>\n",
       "      <td>-0.923286</td>\n",
       "      <td>-0.824127</td>\n",
       "      <td>2018</td>\n",
       "      <td>5</td>\n",
       "    </tr>\n",
       "  </tbody>\n",
       "</table>\n",
       "<p>5 rows × 44 columns</p>\n",
       "</div>"
      ],
      "text/plain": [
       "   JailPop_Change  BailNotPosted_ArrRel  BailPosted_ArrRel   \n",
       "0        1.480277              2.186597           1.642157  \\\n",
       "1       -0.090689              1.500029           1.336942   \n",
       "2       -1.143275              1.573216           1.842727   \n",
       "3        0.182351              1.501771           2.025856   \n",
       "4       -0.854408              1.843313           2.078179   \n",
       "\n",
       "   NonMonetaryCondit_ArrRel  Other_ArrRel  ROR_ArrRel  Remand_ArrRel   \n",
       "0                 -0.829507      2.949445    1.788751       0.044716  \\\n",
       "1                 -0.851883      2.046940    1.516559      -0.240736   \n",
       "2                 -0.769262      2.254484    1.872771      -0.843356   \n",
       "3                 -0.762377      1.917224    1.490303      -0.906789   \n",
       "4                 -0.714182      1.894426    1.659657      -0.716488   \n",
       "\n",
       "   Total_Arraignments  Felony_ArrChg  Infraction_ArrChg  ...   \n",
       "0            2.177962       1.568071           1.431988  ...  \\\n",
       "1            1.628395       1.076557           1.151824  ...   \n",
       "2            1.927057       1.326951           1.472011  ...   \n",
       "3            1.600187       1.115507           1.311918  ...   \n",
       "4            1.747167       1.657100           1.532047  ...   \n",
       "\n",
       "   Felony_Crimes_lag1  Misdemeanor_Crimes_lag1  Violation_Crimes_lag1   \n",
       "0                 NaN                      NaN                    NaN  \\\n",
       "1           -0.635946                 0.420891              -1.012979   \n",
       "2           -1.309060                -0.337739              -1.380090   \n",
       "3           -0.744648                 0.298289              -0.790141   \n",
       "4           -0.879032                 0.399646              -0.658724   \n",
       "\n",
       "   Total_Crimes_lag1  Staff_Assaults_lag1  Inmate_Slashing_lag1   \n",
       "0                NaN                  NaN                   NaN  \\\n",
       "1          -0.188101             2.802293             -0.325624   \n",
       "2          -0.896177             2.729738             -1.143515   \n",
       "3          -0.257354             2.391147             -0.909831   \n",
       "4          -0.235412             1.713966             -0.676148   \n",
       "\n",
       "   Inmate_Stabbing_lag1  Total_Inmate_Incidents_lag1  year  month  \n",
       "0                   NaN                          NaN  2018      1  \n",
       "1             -0.664341                    -0.505548  2018      2  \n",
       "2             -0.923286                    -1.078990  2018      3  \n",
       "3             -0.793814                    -0.887843  2018      4  \n",
       "4             -0.923286                    -0.824127  2018      5  \n",
       "\n",
       "[5 rows x 44 columns]"
      ]
     },
     "execution_count": 6,
     "metadata": {},
     "output_type": "execute_result"
    }
   ],
   "source": [
    "# import the data\n",
    "monthly_vars = pd.read_csv('../Data/scaled_exo_variables_and_jailpop_monthly.csv',index_col = 0)\n",
    "monthly_vars.head()"
   ]
  },
  {
   "cell_type": "code",
   "execution_count": 7,
   "id": "ef315161",
   "metadata": {},
   "outputs": [
    {
     "data": {
      "text/html": [
       "<div>\n",
       "<style scoped>\n",
       "    .dataframe tbody tr th:only-of-type {\n",
       "        vertical-align: middle;\n",
       "    }\n",
       "\n",
       "    .dataframe tbody tr th {\n",
       "        vertical-align: top;\n",
       "    }\n",
       "\n",
       "    .dataframe thead th {\n",
       "        text-align: right;\n",
       "    }\n",
       "</style>\n",
       "<table border=\"1\" class=\"dataframe\">\n",
       "  <thead>\n",
       "    <tr style=\"text-align: right;\">\n",
       "      <th></th>\n",
       "      <th>year</th>\n",
       "      <th>month</th>\n",
       "      <th>JailPop_Change</th>\n",
       "      <th>BailNotPosted_ArrRel</th>\n",
       "      <th>Total_Arraignments_lag1</th>\n",
       "    </tr>\n",
       "  </thead>\n",
       "  <tbody>\n",
       "    <tr>\n",
       "      <th>0</th>\n",
       "      <td>2018</td>\n",
       "      <td>1</td>\n",
       "      <td>1.480277</td>\n",
       "      <td>2.186597</td>\n",
       "      <td>NaN</td>\n",
       "    </tr>\n",
       "    <tr>\n",
       "      <th>1</th>\n",
       "      <td>2018</td>\n",
       "      <td>2</td>\n",
       "      <td>-0.090689</td>\n",
       "      <td>1.500029</td>\n",
       "      <td>2.177962</td>\n",
       "    </tr>\n",
       "    <tr>\n",
       "      <th>2</th>\n",
       "      <td>2018</td>\n",
       "      <td>3</td>\n",
       "      <td>-1.143275</td>\n",
       "      <td>1.573216</td>\n",
       "      <td>1.628395</td>\n",
       "    </tr>\n",
       "    <tr>\n",
       "      <th>3</th>\n",
       "      <td>2018</td>\n",
       "      <td>4</td>\n",
       "      <td>0.182351</td>\n",
       "      <td>1.501771</td>\n",
       "      <td>1.927057</td>\n",
       "    </tr>\n",
       "    <tr>\n",
       "      <th>4</th>\n",
       "      <td>2018</td>\n",
       "      <td>5</td>\n",
       "      <td>-0.854408</td>\n",
       "      <td>1.843313</td>\n",
       "      <td>1.600187</td>\n",
       "    </tr>\n",
       "  </tbody>\n",
       "</table>\n",
       "</div>"
      ],
      "text/plain": [
       "   year  month  JailPop_Change  BailNotPosted_ArrRel  Total_Arraignments_lag1\n",
       "0  2018      1        1.480277              2.186597                      NaN\n",
       "1  2018      2       -0.090689              1.500029                 2.177962\n",
       "2  2018      3       -1.143275              1.573216                 1.628395\n",
       "3  2018      4        0.182351              1.501771                 1.927057\n",
       "4  2018      5       -0.854408              1.843313                 1.600187"
      ]
     },
     "execution_count": 7,
     "metadata": {},
     "output_type": "execute_result"
    }
   ],
   "source": [
    "#based on the feature engineering and the SARIMA model we have used in the past we are going to use \n",
    "# ['BailNotPosted_ArrRel','Total_Arraignments_lag1'] as features\n",
    "\n",
    "features = ['BailNotPosted_ArrRel','Total_Arraignments_lag1']\n",
    "filtered_data = monthly_vars[['year','month','JailPop_Change']+features]\n",
    "filtered_data.head()"
   ]
  },
  {
   "cell_type": "code",
   "execution_count": 9,
   "id": "9bcde0ed",
   "metadata": {},
   "outputs": [],
   "source": [
    "#getting function from https://towardsdatascience.com/forecasting-with-bayesian-dynamic-generalized-linear-models-in-python-865587fbaf90\n",
    "\n",
    "def bayes_forecast(iv,dv):\n",
    "    '''\n",
    "    This functions runs the Pybats algorithm by taking two parameters: an independent variable matrix and a dependent variable. \n",
    "    Both elements must be sequential time series. \n",
    "    '''\n",
    "    # first check if the iv = None, indicating this would be a univariate series\n",
    "    if iv is None:\n",
    "        x = None\n",
    "    else:\n",
    "        x = iv.values\n",
    "    \n",
    "    y = dv.values\n",
    "    \n",
    "    # set the one-step-ahead value; by default we want 1\n",
    "    k = 1                                                       \n",
    "    forecast_start = 0                                         \n",
    "    forecast_end = len(y)-1\n",
    "    mod, samples = analysis(Y=y, X=x, family='poisson',\n",
    "       forecast_start=forecast_start,      \n",
    "       forecast_end=forecast_end,         \n",
    "       k=k,                                \n",
    "       ntrend=1,\n",
    "       nsamps=5000,\n",
    "       seasPeriods=[12],\n",
    "       seasHarmComponents=[[1,2]],\n",
    "       prior_length=4,                     \n",
    "       deltrend=0.94,                      \n",
    "       delregn=0.90,                        \n",
    "       delVar=0.98,\n",
    "       delSeas=0.98,\n",
    "       rho=.6,\n",
    "       )\n",
    "    forecast = median(samples)\n",
    "    \n",
    "    # set confidence interval for in-sample forecast\n",
    "    credible_interval=95\n",
    "    alpha = (100-credible_interval)/2\n",
    "    upper=np.percentile(samples, [100-alpha], axis=0).reshape(-1)\n",
    "    lower=np.percentile(samples, [alpha], axis=0).reshape(-1)\n",
    "    print(\"MAPE:\", MAPE(y[-18:], forecast[-18:]).round(2))\n",
    "    \n",
    "    #Generate the Bayesian Future Forecast\n",
    "    return mod, forecast, samples, y"
   ]
  },
  {
   "cell_type": "code",
   "execution_count": 12,
   "id": "52319aa0",
   "metadata": {},
   "outputs": [
    {
     "name": "stdout",
     "output_type": "stream",
     "text": [
      "MAPE: -3863056.5\n"
     ]
    }
   ],
   "source": [
    "#multivariate TS\n",
    "mv_mod, mv_for, mv_samp, mv_y = bayes_forecast(filtered_data.iloc[:,3:], filtered_data['JailPop_Change'])"
   ]
  },
  {
   "cell_type": "code",
   "execution_count": 15,
   "id": "0cfd5ed3",
   "metadata": {},
   "outputs": [
    {
     "name": "stdout",
     "output_type": "stream",
     "text": [
      "<pybats.dglm.pois_dglm object at 0x000001BECE580610>\n"
     ]
    }
   ],
   "source": [
    "print(mv_mod)"
   ]
  },
  {
   "cell_type": "code",
   "execution_count": 16,
   "id": "bc9bc7b0",
   "metadata": {},
   "outputs": [
    {
     "data": {
      "text/plain": [
       "61"
      ]
     },
     "execution_count": 16,
     "metadata": {},
     "output_type": "execute_result"
    }
   ],
   "source": [
    "len(mv_for)"
   ]
  },
  {
   "cell_type": "code",
   "execution_count": 19,
   "id": "7449375b",
   "metadata": {},
   "outputs": [
    {
     "data": {
      "text/plain": [
       "61"
      ]
     },
     "execution_count": 19,
     "metadata": {},
     "output_type": "execute_result"
    }
   ],
   "source": [
    "len(mv_y)"
   ]
  },
  {
   "cell_type": "code",
   "execution_count": 23,
   "id": "1cebd898",
   "metadata": {},
   "outputs": [
    {
     "data": {
      "image/png": "[encoded data removed]",
      "text/plain": [
       "<Figure size 1200x600 with 1 Axes>"
      ]
     },
     "metadata": {},
     "output_type": "display_data"
    }
   ],
   "source": [
    "plt.figure(figsize=(12, 6))\n",
    "    \n",
    "# Plot original series\n",
    "plt.plot(filtered_data.index,filtered_data['JailPop_Change'], label='Original Series')\n",
    "\n",
    "# Plot forecast\n",
    "plt.plot(filtered_data.index,mv_for, label='Bayesian Forecast')\n",
    "\n",
    "plt.legend()\n",
    "plt.xlabel('Time')\n",
    "plt.ylabel('Value')\n",
    "plt.title('Bayesian Forecast')\n",
    "plt.show()"
   ]
  },
  {
   "cell_type": "code",
   "execution_count": 21,
   "id": "e9a708ca",
   "metadata": {},
   "outputs": [
    {
     "name": "stdout",
     "output_type": "stream",
     "text": [
      "MAPE: -454.64\n"
     ]
    }
   ],
   "source": [
    "#univariate\n",
    "# Calculate Bayesian estimate for the univariate model\n",
    "uv_mod, uv_for, uv_samp, uv_y = bayes_forecast(None, filtered_data['JailPop_Change'])"
   ]
  },
  {
   "cell_type": "code",
   "execution_count": 22,
   "id": "fea27cc3",
   "metadata": {},
   "outputs": [
    {
     "data": {
      "text/plain": [
       "[<matplotlib.lines.Line2D at 0x1bed43204d0>]"
      ]
     },
     "execution_count": 22,
     "metadata": {},
     "output_type": "execute_result"
    },
    {
     "data": {
      "image/png": "[encoded data removed]",
      "text/plain": [
       "<Figure size 1200x600 with 1 Axes>"
      ]
     },
     "metadata": {},
     "output_type": "display_data"
    }
   ],
   "source": [
    "plt.figure(figsize=(12, 6))\n",
    "    \n",
    "# Plot original series\n",
    "plt.plot(filtered_data.index,filtered_data['JailPop_Change'], label='Original Series')\n",
    "\n",
    "# Plot forecast\n",
    "plt.plot(filtered_data.index,uv_for, label='Bayesian Forecast')\n"
   ]
  },
  {
   "cell_type": "code",
   "execution_count": null,
   "id": "5d7608d6",
   "metadata": {},
   "outputs": [],
   "source": []
  }
 ],
 "metadata": {
  "kernelspec": {
   "display_name": "Python 3 (ipykernel)",
   "language": "python",
   "name": "python3"
  },
  "language_info": {
   "codemirror_mode": {
    "name": "ipython",
    "version": 3
   },
   "file_extension": ".py",
   "mimetype": "text/x-python",
   "name": "python",
   "nbconvert_exporter": "python",
   "pygments_lexer": "ipython3",
   "version": "3.11.3"
  }
 },
 "nbformat": 4,
 "nbformat_minor": 5
}
