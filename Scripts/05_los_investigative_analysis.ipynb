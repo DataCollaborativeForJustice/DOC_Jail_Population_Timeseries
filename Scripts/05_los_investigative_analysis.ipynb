{
 "cells": [
  {
   "cell_type": "markdown",
   "metadata": {},
   "source": [
    "# Additional Investigation of the Relationship between Admission Counts, Length of Stay, and Average Daily Jail Population"
   ]
  },
  {
   "cell_type": "code",
   "execution_count": 17,
   "metadata": {},
   "outputs": [],
   "source": [
    "import pandas as pd\n",
    "import numpy as np\n",
    "import math\n",
    "import matplotlib.pyplot as plt"
   ]
  },
  {
   "cell_type": "code",
   "execution_count": 18,
   "metadata": {},
   "outputs": [
    {
     "data": {
      "text/html": [
       "<div>\n",
       "<style scoped>\n",
       "    .dataframe tbody tr th:only-of-type {\n",
       "        vertical-align: middle;\n",
       "    }\n",
       "\n",
       "    .dataframe tbody tr th {\n",
       "        vertical-align: top;\n",
       "    }\n",
       "\n",
       "    .dataframe thead th {\n",
       "        text-align: right;\n",
       "    }\n",
       "</style>\n",
       "<table border=\"1\" class=\"dataframe\">\n",
       "  <thead>\n",
       "    <tr style=\"text-align: right;\">\n",
       "      <th></th>\n",
       "      <th>Start Date</th>\n",
       "      <th>End Date</th>\n",
       "      <th>ADP</th>\n",
       "    </tr>\n",
       "  </thead>\n",
       "  <tbody>\n",
       "    <tr>\n",
       "      <th>0</th>\n",
       "      <td>2016-05-16</td>\n",
       "      <td>2016-06-14</td>\n",
       "      <td>9821.0</td>\n",
       "    </tr>\n",
       "    <tr>\n",
       "      <th>1</th>\n",
       "      <td>2016-06-15</td>\n",
       "      <td>2016-07-14</td>\n",
       "      <td>9792.0</td>\n",
       "    </tr>\n",
       "    <tr>\n",
       "      <th>2</th>\n",
       "      <td>2016-07-15</td>\n",
       "      <td>2016-08-13</td>\n",
       "      <td>9732.0</td>\n",
       "    </tr>\n",
       "    <tr>\n",
       "      <th>3</th>\n",
       "      <td>2016-08-14</td>\n",
       "      <td>2016-09-12</td>\n",
       "      <td>9830.0</td>\n",
       "    </tr>\n",
       "    <tr>\n",
       "      <th>4</th>\n",
       "      <td>2016-09-13</td>\n",
       "      <td>2016-10-12</td>\n",
       "      <td>9840.0</td>\n",
       "    </tr>\n",
       "  </tbody>\n",
       "</table>\n",
       "</div>"
      ],
      "text/plain": [
       "   Start Date    End Date     ADP\n",
       "0  2016-05-16  2016-06-14  9821.0\n",
       "1  2016-06-15  2016-07-14  9792.0\n",
       "2  2016-07-15  2016-08-13  9732.0\n",
       "3  2016-08-14  2016-09-12  9830.0\n",
       "4  2016-09-13  2016-10-12  9840.0"
      ]
     },
     "execution_count": 18,
     "metadata": {},
     "output_type": "execute_result"
    }
   ],
   "source": [
    "#import 30-day data\n",
    "_30day_pop_tot = pd.read_csv(\"../Data/_30_day_adp.csv\", index_col = 0)\n",
    "IV_df = pd.read_csv(\"../Data/_30_day_IVs.csv\", index_col=0)\n",
    "_30day_pop_tot.head()"
   ]
  },
  {
   "cell_type": "code",
   "execution_count": 19,
   "metadata": {},
   "outputs": [
    {
     "data": {
      "text/html": [
       "<div>\n",
       "<style scoped>\n",
       "    .dataframe tbody tr th:only-of-type {\n",
       "        vertical-align: middle;\n",
       "    }\n",
       "\n",
       "    .dataframe tbody tr th {\n",
       "        vertical-align: top;\n",
       "    }\n",
       "\n",
       "    .dataframe thead th {\n",
       "        text-align: right;\n",
       "    }\n",
       "</style>\n",
       "<table border=\"1\" class=\"dataframe\">\n",
       "  <thead>\n",
       "    <tr style=\"text-align: right;\">\n",
       "      <th></th>\n",
       "      <th>Start Date</th>\n",
       "      <th>End Date</th>\n",
       "      <th>admission_count</th>\n",
       "      <th>discharge_count</th>\n",
       "      <th>Avg LOS Days</th>\n",
       "    </tr>\n",
       "  </thead>\n",
       "  <tbody>\n",
       "    <tr>\n",
       "      <th>0</th>\n",
       "      <td>2016-05-16</td>\n",
       "      <td>2016-06-14</td>\n",
       "      <td>4961</td>\n",
       "      <td>5036</td>\n",
       "      <td>57.516161</td>\n",
       "    </tr>\n",
       "    <tr>\n",
       "      <th>1</th>\n",
       "      <td>2016-06-15</td>\n",
       "      <td>2016-07-14</td>\n",
       "      <td>4918</td>\n",
       "      <td>5011</td>\n",
       "      <td>63.843071</td>\n",
       "    </tr>\n",
       "    <tr>\n",
       "      <th>2</th>\n",
       "      <td>2016-07-15</td>\n",
       "      <td>2016-08-13</td>\n",
       "      <td>4846</td>\n",
       "      <td>4725</td>\n",
       "      <td>59.396913</td>\n",
       "    </tr>\n",
       "    <tr>\n",
       "      <th>3</th>\n",
       "      <td>2016-08-14</td>\n",
       "      <td>2016-09-12</td>\n",
       "      <td>4578</td>\n",
       "      <td>4452</td>\n",
       "      <td>57.784929</td>\n",
       "    </tr>\n",
       "    <tr>\n",
       "      <th>4</th>\n",
       "      <td>2016-09-13</td>\n",
       "      <td>2016-10-12</td>\n",
       "      <td>4572</td>\n",
       "      <td>4692</td>\n",
       "      <td>60.720000</td>\n",
       "    </tr>\n",
       "  </tbody>\n",
       "</table>\n",
       "</div>"
      ],
      "text/plain": [
       "   Start Date    End Date  admission_count  discharge_count  Avg LOS Days\n",
       "0  2016-05-16  2016-06-14             4961             5036     57.516161\n",
       "1  2016-06-15  2016-07-14             4918             5011     63.843071\n",
       "2  2016-07-15  2016-08-13             4846             4725     59.396913\n",
       "3  2016-08-14  2016-09-12             4578             4452     57.784929\n",
       "4  2016-09-13  2016-10-12             4572             4692     60.720000"
      ]
     },
     "execution_count": 19,
     "metadata": {},
     "output_type": "execute_result"
    }
   ],
   "source": [
    "IV_df.head()"
   ]
  },
  {
   "cell_type": "code",
   "execution_count": 20,
   "metadata": {},
   "outputs": [
    {
     "data": {
      "text/html": [
       "<div>\n",
       "<style scoped>\n",
       "    .dataframe tbody tr th:only-of-type {\n",
       "        vertical-align: middle;\n",
       "    }\n",
       "\n",
       "    .dataframe tbody tr th {\n",
       "        vertical-align: top;\n",
       "    }\n",
       "\n",
       "    .dataframe thead th {\n",
       "        text-align: right;\n",
       "    }\n",
       "</style>\n",
       "<table border=\"1\" class=\"dataframe\">\n",
       "  <thead>\n",
       "    <tr style=\"text-align: right;\">\n",
       "      <th></th>\n",
       "      <th>Start Date</th>\n",
       "      <th>End Date</th>\n",
       "      <th>admission_count</th>\n",
       "      <th>discharge_count</th>\n",
       "      <th>Avg LOS Days</th>\n",
       "      <th>LOS (30-Day Periods)</th>\n",
       "    </tr>\n",
       "  </thead>\n",
       "  <tbody>\n",
       "    <tr>\n",
       "      <th>0</th>\n",
       "      <td>2016-05-16</td>\n",
       "      <td>2016-06-14</td>\n",
       "      <td>4961</td>\n",
       "      <td>5036</td>\n",
       "      <td>57.516161</td>\n",
       "      <td>2.0</td>\n",
       "    </tr>\n",
       "    <tr>\n",
       "      <th>1</th>\n",
       "      <td>2016-06-15</td>\n",
       "      <td>2016-07-14</td>\n",
       "      <td>4918</td>\n",
       "      <td>5011</td>\n",
       "      <td>63.843071</td>\n",
       "      <td>3.0</td>\n",
       "    </tr>\n",
       "    <tr>\n",
       "      <th>2</th>\n",
       "      <td>2016-07-15</td>\n",
       "      <td>2016-08-13</td>\n",
       "      <td>4846</td>\n",
       "      <td>4725</td>\n",
       "      <td>59.396913</td>\n",
       "      <td>2.0</td>\n",
       "    </tr>\n",
       "    <tr>\n",
       "      <th>3</th>\n",
       "      <td>2016-08-14</td>\n",
       "      <td>2016-09-12</td>\n",
       "      <td>4578</td>\n",
       "      <td>4452</td>\n",
       "      <td>57.784929</td>\n",
       "      <td>2.0</td>\n",
       "    </tr>\n",
       "    <tr>\n",
       "      <th>4</th>\n",
       "      <td>2016-09-13</td>\n",
       "      <td>2016-10-12</td>\n",
       "      <td>4572</td>\n",
       "      <td>4692</td>\n",
       "      <td>60.720000</td>\n",
       "      <td>3.0</td>\n",
       "    </tr>\n",
       "  </tbody>\n",
       "</table>\n",
       "</div>"
      ],
      "text/plain": [
       "   Start Date    End Date  admission_count  discharge_count  Avg LOS Days   \n",
       "0  2016-05-16  2016-06-14             4961             5036     57.516161  \\\n",
       "1  2016-06-15  2016-07-14             4918             5011     63.843071   \n",
       "2  2016-07-15  2016-08-13             4846             4725     59.396913   \n",
       "3  2016-08-14  2016-09-12             4578             4452     57.784929   \n",
       "4  2016-09-13  2016-10-12             4572             4692     60.720000   \n",
       "\n",
       "   LOS (30-Day Periods)  \n",
       "0                   2.0  \n",
       "1                   3.0  \n",
       "2                   2.0  \n",
       "3                   2.0  \n",
       "4                   3.0  "
      ]
     },
     "execution_count": 20,
     "metadata": {},
     "output_type": "execute_result"
    }
   ],
   "source": [
    "#compute LOS as 30-day period instead of days\n",
    "IV_df['LOS (30-Day Periods)'] = np.ceil(IV_df['Avg LOS Days']/30)\n",
    "IV_df.head()"
   ]
  },
  {
   "cell_type": "code",
   "execution_count": 21,
   "metadata": {},
   "outputs": [],
   "source": [
    "ADP = pd.DataFrame(columns=['Start Date', 'End Date', 'ADP Estimate'])\n",
    "#initial admission data point\n",
    "adm0 = 0\n",
    "initial_los_period = IV_df.at[0,'LOS (30-Day Periods)']\n",
    "for idx, row in IV_df.iterrows():\n",
    "    \n",
    "    if idx >= initial_los_period:\n",
    "        adp_i = row['admission_count'] + ADP.at[(idx-initial_los_period),'ADP Estimate'] - IV_df.at[idx - row['LOS (30-Day Periods)'],'admission_count']\n",
    "        #store in ADP df\n",
    "        ADP.at[(idx-initial_los_period+1),'Start Date'] = row['Start Date']\n",
    "        ADP.at[(idx-initial_los_period+1),'End Date'] = row['End Date']\n",
    "        ADP.at[(idx-initial_los_period+1),'ADP Estimate'] = adp_i\n",
    "        \n",
    "    elif idx < initial_los_period:\n",
    "        adm0 = adm0 + IV_df.at[idx,'admission_count']\n",
    "    \n",
    "    #store as first ADP Estimate\n",
    "    ADP.at[0,'Start Date'] = IV_df.at[0,'Start Date']\n",
    "    ADP.at[0,'End Date'] = IV_df.at[0,'End Date']\n",
    "    ADP.at[0,'ADP Estimate'] = adm0\n",
    "    "
   ]
  },
  {
   "cell_type": "code",
   "execution_count": 22,
   "metadata": {},
   "outputs": [
    {
     "data": {
      "text/html": [
       "<div>\n",
       "<style scoped>\n",
       "    .dataframe tbody tr th:only-of-type {\n",
       "        vertical-align: middle;\n",
       "    }\n",
       "\n",
       "    .dataframe tbody tr th {\n",
       "        vertical-align: top;\n",
       "    }\n",
       "\n",
       "    .dataframe thead th {\n",
       "        text-align: right;\n",
       "    }\n",
       "</style>\n",
       "<table border=\"1\" class=\"dataframe\">\n",
       "  <thead>\n",
       "    <tr style=\"text-align: right;\">\n",
       "      <th></th>\n",
       "      <th>Start Date</th>\n",
       "      <th>End Date</th>\n",
       "      <th>ADP Estimate</th>\n",
       "    </tr>\n",
       "  </thead>\n",
       "  <tbody>\n",
       "    <tr>\n",
       "      <th>0</th>\n",
       "      <td>2016-05-16</td>\n",
       "      <td>2016-06-14</td>\n",
       "      <td>9879</td>\n",
       "    </tr>\n",
       "    <tr>\n",
       "      <th>1</th>\n",
       "      <td>2016-07-15</td>\n",
       "      <td>2016-08-13</td>\n",
       "      <td>9764</td>\n",
       "    </tr>\n",
       "    <tr>\n",
       "      <th>2</th>\n",
       "      <td>2016-08-14</td>\n",
       "      <td>2016-09-12</td>\n",
       "      <td>9424</td>\n",
       "    </tr>\n",
       "    <tr>\n",
       "      <th>3</th>\n",
       "      <td>2016-09-13</td>\n",
       "      <td>2016-10-12</td>\n",
       "      <td>9078</td>\n",
       "    </tr>\n",
       "    <tr>\n",
       "      <th>4</th>\n",
       "      <td>2016-10-13</td>\n",
       "      <td>2016-11-11</td>\n",
       "      <td>9043</td>\n",
       "    </tr>\n",
       "  </tbody>\n",
       "</table>\n",
       "</div>"
      ],
      "text/plain": [
       "   Start Date    End Date ADP Estimate\n",
       "0  2016-05-16  2016-06-14         9879\n",
       "1  2016-07-15  2016-08-13         9764\n",
       "2  2016-08-14  2016-09-12         9424\n",
       "3  2016-09-13  2016-10-12         9078\n",
       "4  2016-10-13  2016-11-11         9043"
      ]
     },
     "execution_count": 22,
     "metadata": {},
     "output_type": "execute_result"
    }
   ],
   "source": [
    "ADP.head()"
   ]
  },
  {
   "cell_type": "code",
   "execution_count": 23,
   "metadata": {},
   "outputs": [
    {
     "data": {
      "text/html": [
       "<div>\n",
       "<style scoped>\n",
       "    .dataframe tbody tr th:only-of-type {\n",
       "        vertical-align: middle;\n",
       "    }\n",
       "\n",
       "    .dataframe tbody tr th {\n",
       "        vertical-align: top;\n",
       "    }\n",
       "\n",
       "    .dataframe thead th {\n",
       "        text-align: right;\n",
       "    }\n",
       "</style>\n",
       "<table border=\"1\" class=\"dataframe\">\n",
       "  <thead>\n",
       "    <tr style=\"text-align: right;\">\n",
       "      <th></th>\n",
       "      <th>Start Date</th>\n",
       "      <th>End Date</th>\n",
       "      <th>ADP</th>\n",
       "    </tr>\n",
       "  </thead>\n",
       "  <tbody>\n",
       "    <tr>\n",
       "      <th>0</th>\n",
       "      <td>2016-05-16</td>\n",
       "      <td>2016-06-14</td>\n",
       "      <td>9821.0</td>\n",
       "    </tr>\n",
       "    <tr>\n",
       "      <th>1</th>\n",
       "      <td>2016-06-15</td>\n",
       "      <td>2016-07-14</td>\n",
       "      <td>9792.0</td>\n",
       "    </tr>\n",
       "    <tr>\n",
       "      <th>2</th>\n",
       "      <td>2016-07-15</td>\n",
       "      <td>2016-08-13</td>\n",
       "      <td>9732.0</td>\n",
       "    </tr>\n",
       "    <tr>\n",
       "      <th>3</th>\n",
       "      <td>2016-08-14</td>\n",
       "      <td>2016-09-12</td>\n",
       "      <td>9830.0</td>\n",
       "    </tr>\n",
       "    <tr>\n",
       "      <th>4</th>\n",
       "      <td>2016-09-13</td>\n",
       "      <td>2016-10-12</td>\n",
       "      <td>9840.0</td>\n",
       "    </tr>\n",
       "  </tbody>\n",
       "</table>\n",
       "</div>"
      ],
      "text/plain": [
       "   Start Date    End Date     ADP\n",
       "0  2016-05-16  2016-06-14  9821.0\n",
       "1  2016-06-15  2016-07-14  9792.0\n",
       "2  2016-07-15  2016-08-13  9732.0\n",
       "3  2016-08-14  2016-09-12  9830.0\n",
       "4  2016-09-13  2016-10-12  9840.0"
      ]
     },
     "execution_count": 23,
     "metadata": {},
     "output_type": "execute_result"
    }
   ],
   "source": [
    "_30day_pop_tot.head()"
   ]
  },
  {
   "cell_type": "code",
   "execution_count": 24,
   "metadata": {},
   "outputs": [
    {
     "name": "stdout",
     "output_type": "stream",
     "text": [
      "96 98\n"
     ]
    }
   ],
   "source": [
    "print(len(ADP),len(_30day_pop_tot))"
   ]
  },
  {
   "cell_type": "code",
   "execution_count": 34,
   "metadata": {},
   "outputs": [],
   "source": [
    "#also calculate admission*los variables\n",
    "littles_law_cal_1 = IV_df['admission_count']*IV_df['LOS (30-Day Periods)']\n",
    "littles_law_cal_2 = IV_df['admission_count']*IV_df['LOS (30-Day Periods)'].mean().round()\n",
    "littles_law_cal_3 = IV_df['admission_count']*IV_df['LOS (30-Day Periods)'].rolling(3).mean().round()"
   ]
  },
  {
   "cell_type": "code",
   "execution_count": 28,
   "metadata": {},
   "outputs": [
    {
     "data": {
      "text/plain": [
       "3.0"
      ]
     },
     "execution_count": 28,
     "metadata": {},
     "output_type": "execute_result"
    }
   ],
   "source": [
    "IV_df['LOS (30-Day Periods)'].mean().round()"
   ]
  },
  {
   "cell_type": "code",
   "execution_count": 33,
   "metadata": {},
   "outputs": [
    {
     "data": {
      "text/plain": [
       "0     NaN\n",
       "1     NaN\n",
       "2     2.0\n",
       "3     2.0\n",
       "4     2.0\n",
       "     ... \n",
       "92    4.0\n",
       "93    4.0\n",
       "94    4.0\n",
       "95    4.0\n",
       "96    4.0\n",
       "Name: LOS (30-Day Periods), Length: 97, dtype: float64"
      ]
     },
     "execution_count": 33,
     "metadata": {},
     "output_type": "execute_result"
    }
   ],
   "source": [
    "IV_df['LOS (30-Day Periods)'].rolling(3).mean().round()"
   ]
  },
  {
   "cell_type": "code",
   "execution_count": 35,
   "metadata": {},
   "outputs": [
    {
     "data": {
      "text/plain": [
       "<matplotlib.legend.Legend at 0x293ebc25410>"
      ]
     },
     "execution_count": 35,
     "metadata": {},
     "output_type": "execute_result"
    },
    {
     "data": {
      "image/png": "[encoded data removed]",
      "text/plain": [
       "<Figure size 640x480 with 1 Axes>"
      ]
     },
     "metadata": {},
     "output_type": "display_data"
    }
   ],
   "source": [
    "plt.plot(ADP.index, ADP['ADP Estimate'],'r', label = 'estimate 1')\n",
    "plt.plot(IV_df.index, littles_law_cal_1,'g', label = 'littles law 1')\n",
    "plt.plot(IV_df.index, littles_law_cal_2,'m', label = 'littles law 2')\n",
    "plt.plot(IV_df.index, littles_law_cal_3,'y', label = 'littles law 3')\n",
    "plt.plot(_30day_pop_tot.index, _30day_pop_tot['ADP'], 'b', label = 'actual')\n",
    "plt.legend()"
   ]
  },
  {
   "cell_type": "code",
   "execution_count": null,
   "metadata": {},
   "outputs": [],
   "source": []
  }
 ],
 "metadata": {
  "kernelspec": {
   "display_name": "Python 3",
   "language": "python",
   "name": "python3"
  },
  "language_info": {
   "codemirror_mode": {
    "name": "ipython",
    "version": 3
   },
   "file_extension": ".py",
   "mimetype": "text/x-python",
   "name": "python",
   "nbconvert_exporter": "python",
   "pygments_lexer": "ipython3",
   "version": "3.11.3"
  }
 },
 "nbformat": 4,
 "nbformat_minor": 2
}
